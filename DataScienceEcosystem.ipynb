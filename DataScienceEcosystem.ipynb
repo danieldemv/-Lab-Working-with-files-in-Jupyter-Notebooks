{
 "cells": [
  {
   "cell_type": "markdown",
   "id": "69cbd284-0d4a-489d-a3fe-cce519e63d76",
   "metadata": {},
   "source": [
    "# Data Science Tools and Ecosystem"
   ]
  },
  {
   "cell_type": "markdown",
   "id": "4c3d4471-24fa-4398-a46e-818a6f0af7e1",
   "metadata": {},
   "source": [
    "In this notebook, Data Science Tools and Ecosystem are summarized."
   ]
  },
  {
   "cell_type": "markdown",
   "id": "5dcc9656-c286-4820-9d4f-bdebad90f76a",
   "metadata": {},
   "source": [
    "<b>Objectives</b>:\n",
    "* Develop a solid understanding of the functionality of programming languages used in data analysis, such as R. Python, SAS and SQL, through code development and interpretation.\n",
    "* Become familiar with data-oriented libraries in these languages, leveraging their functionalities to streamline programming tasks.\n",
    "* Create interactive notebooks and strengthen the use of tools aimed at research and professional environments."
   ]
  },
  {
   "cell_type": "markdown",
   "id": "0d7edb49-db1b-4817-8572-c3277881045d",
   "metadata": {},
   "source": [
    "Some of the popular languages that Data Scientists use are:\n",
    "1. R\n",
    "2. Python\n",
    "3. SAS\n",
    "4. SQL"
   ]
  },
  {
   "cell_type": "markdown",
   "id": "685aa487-2bc9-46d9-9aa0-ca53fa4aa1ae",
   "metadata": {},
   "source": [
    "Some of the commonly used libraries used by Data Scientists include:\n",
    "1. Pandas\n",
    "2. Matplotlib\n",
    "3. Numpy\n",
    "4. os\n",
    "5. Seaborn"
   ]
  },
  {
   "cell_type": "markdown",
   "id": "a63e5d83-6997-4abd-9bec-03a85935f7ab",
   "metadata": {},
   "source": [
    "|Data Science Tools|\n",
    "|---|\n",
    "|R Studio|\n",
    "|Jupyter Notebooks|\n",
    "|Google Collab|\n",
    "|Spyder|\n"
   ]
  },
  {
   "cell_type": "markdown",
   "id": "4457540d-8461-4feb-8e02-c4061b249773",
   "metadata": {},
   "source": [
    "### Below are a few examples of evaluating arithmetic expressions in Python."
   ]
  },
  {
   "cell_type": "markdown",
   "id": "2cca000c-7b23-47c6-ad7b-03497fb00a9d",
   "metadata": {},
   "source": [
    "This a simple arithmetic expression to mutiply then add integers"
   ]
  },
  {
   "cell_type": "code",
   "execution_count": 17,
   "id": "caba8600-3cdd-4431-9431-5a5fea71f8f4",
   "metadata": {},
   "outputs": [
    {
     "data": {
      "text/plain": [
       "17"
      ]
     },
     "execution_count": 17,
     "metadata": {},
     "output_type": "execute_result"
    }
   ],
   "source": [
    "(3*4)+5"
   ]
  },
  {
   "cell_type": "markdown",
   "id": "adc842cd-bd4f-4c93-ba2b-bb3168b8af35",
   "metadata": {},
   "source": [
    "This will convert 200 minutes to hours by diving by 60"
   ]
  },
  {
   "cell_type": "code",
   "execution_count": 20,
   "id": "d1bc8fc3-0f5e-4320-bf0d-04d5e91ce80f",
   "metadata": {},
   "outputs": [
    {
     "data": {
      "text/plain": [
       "3.3333333333333335"
      ]
     },
     "execution_count": 20,
     "metadata": {},
     "output_type": "execute_result"
    }
   ],
   "source": [
    "200/60"
   ]
  },
  {
   "cell_type": "markdown",
   "id": "e1961e2d-34f7-461d-980c-3ee05a102436",
   "metadata": {},
   "source": [
    "## Author\n",
    "Daniel Esteban Mesias Velásquez"
   ]
  }
 ],
 "metadata": {
  "kernelspec": {
   "display_name": "Python [conda env:base] *",
   "language": "python",
   "name": "conda-base-py"
  },
  "language_info": {
   "codemirror_mode": {
    "name": "ipython",
    "version": 3
   },
   "file_extension": ".py",
   "mimetype": "text/x-python",
   "name": "python",
   "nbconvert_exporter": "python",
   "pygments_lexer": "ipython3",
   "version": "3.12.7"
  }
 },
 "nbformat": 4,
 "nbformat_minor": 5
}
